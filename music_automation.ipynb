{
 "cells": [
  {
   "cell_type": "code",
   "execution_count": 3,
   "metadata": {},
   "outputs": [
    {
     "name": "stderr",
     "output_type": "stream",
     "text": [
      "\n",
      "\n",
      "====== WebDriver manager ======\n",
      "Current google-chrome version is 92.0.4515\n",
      "Get LATEST driver version for 92.0.4515\n",
      "Driver [C:\\Users\\16sur\\.wdm\\drivers\\chromedriver\\win32\\92.0.4515.107\\chromedriver.exe] found in cache\n"
     ]
    }
   ],
   "source": [
    "from selenium import webdriver\n",
    "from webdriver_manager.chrome import ChromeDriverManager\n",
    "\n",
    "class music():\n",
    "    def __init__(self):\n",
    "            self.driver = webdriver.Chrome(ChromeDriverManager().install())\n",
    "\n",
    "    \n",
    "    def play(self,name):\n",
    "            self.name=name\n",
    "            self.driver.get(url=\"https://www.youtube.com/results?search_query= \"+ name)\n",
    "            self.driver.find_element_by_id(\"video-title\").click()\n",
    "            #video=self.driver.find_element_by_xpath('//*[@id=\"dismissable\"]')\n",
    "            #video.click()\n",
    "\n",
    "bot=music()\n",
    "bot.play(\"Kesari songs\")\n",
    "        \n",
    "    "
   ]
  },
  {
   "cell_type": "code",
   "execution_count": null,
   "metadata": {},
   "outputs": [],
   "source": []
  }
 ],
 "metadata": {
  "kernelspec": {
   "display_name": "Python 3",
   "language": "python",
   "name": "python3"
  },
  "language_info": {
   "codemirror_mode": {
    "name": "ipython",
    "version": 3
   },
   "file_extension": ".py",
   "mimetype": "text/x-python",
   "name": "python",
   "nbconvert_exporter": "python",
   "pygments_lexer": "ipython3",
   "version": "3.8.3"
  }
 },
 "nbformat": 4,
 "nbformat_minor": 4
}
